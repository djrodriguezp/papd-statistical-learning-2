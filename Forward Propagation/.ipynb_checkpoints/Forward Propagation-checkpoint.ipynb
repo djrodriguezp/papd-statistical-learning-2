{
 "cells": [
  {
   "cell_type": "markdown",
   "metadata": {},
   "source": [
    "# Forward Propagation y Análisis de Representaciones Intermedias"
   ]
  },
  {
   "cell_type": "code",
   "execution_count": 1,
   "metadata": {},
   "outputs": [],
   "source": [
    "import numpy as np"
   ]
  },
  {
   "cell_type": "markdown",
   "metadata": {},
   "source": [
    "## Calculando Salida de MLP\n",
    "\n",
    "### Red Neuronal 1\n",
    "\n",
    "Igorando el sesgo/bias y asumiendo activación sigmoidal implementar la siguiente red neuronal en NumPy.\n",
    "\n",
    "<img src=\"img/MLP1.png\" />"
   ]
  },
  {
   "cell_type": "code",
   "execution_count": 2,
   "metadata": {},
   "outputs": [],
   "source": [
    "class RedNeuronal1:\n",
    "    def __init__(self):\n",
    "        self.Wc1 = np.array([\n",
    "            [0.9,0.3,0.2],\n",
    "            [0.8,0.5,0.4],\n",
    "            [0.1,0.6,0.7]\n",
    "        ])\n",
    "        self. Wc2  = np.array([0.3,0.5,0.9])\n",
    "    \n",
    "    def __sigmoid(self,X):\n",
    "        return 1/(1+np.exp(-X))\n",
    "    \n",
    "    def forward_propagation(self,X):\n",
    "        A = self.__sigmoid(np.matmul(X,self.Wc1))\n",
    "        print(\"Salida Primera Capa Intermedia:\")\n",
    "        print(A)\n",
    "        y_aprox = self.__sigmoid(np.matmul(A,self.Wc2))\n",
    "        return y_aprox"
   ]
  },
  {
   "cell_type": "code",
   "execution_count": 3,
   "metadata": {},
   "outputs": [
    {
     "name": "stdout",
     "output_type": "stream",
     "text": [
      "Salida Primera Capa Intermedia:\n",
      "[[0.73105858 0.7109495  0.7109495 ]\n",
      " [0.94267582 0.95689275 0.95689275]\n",
      " [0.99972542 0.99932492 0.99908895]\n",
      " [0.9999925  0.99995892 0.99993228]]\n"
     ]
    }
   ],
   "source": [
    "# 4 observaciones, 3 variables\n",
    "X = np.array([\n",
    "      [1,0,1],\n",
    "      [1,2,3],\n",
    "      [4,5,6],\n",
    "      [6,7,8],\n",
    "])\n",
    "\n",
    "red_neuronal1 = RedNeuronal1()\n",
    "y_aprox = red_neuronal1.forward_propagation(X)"
   ]
  },
  {
   "cell_type": "markdown",
   "metadata": {},
   "source": [
    "Característica intermedia con mayor presencia:\n",
    "\n",
    "**Observación 1:** Neurona 1\n",
    "\n",
    "**Observación 2:** Neurona 2 y 3 (son iguales)\n",
    "\n",
    "**Observación 3:** Neurona 1\n",
    "\n",
    "**Observación 4:** Neurona 1"
   ]
  },
  {
   "cell_type": "code",
   "execution_count": 4,
   "metadata": {},
   "outputs": [
    {
     "data": {
      "text/plain": [
       "array([0.77112013, 0.83513309, 0.84537273, 0.8455238 ])"
      ]
     },
     "execution_count": 4,
     "metadata": {},
     "output_type": "execute_result"
    }
   ],
   "source": [
    "y_aprox"
   ]
  },
  {
   "cell_type": "markdown",
   "metadata": {},
   "source": [
    "### Red Neuronal 2\n",
    "\n",
    "Implementar la siguiente red neuronal en NumPy\n",
    "\n",
    "<img src=\"img/MLP2.png\" />"
   ]
  },
  {
   "cell_type": "code",
   "execution_count": 5,
   "metadata": {},
   "outputs": [],
   "source": [
    "class RedNeuronal2:\n",
    "    def __init__(self):\n",
    "        self.Wc1 = np.array([\n",
    "            [5, 7, -8 ],\n",
    "            [-2, -3, 1]\n",
    "        ])\n",
    "        self. Wc2  = np.array([7, 5, -6])\n",
    "    \n",
    "    def __sigmoid(self,X):\n",
    "        return 1/(1+np.exp(-X))\n",
    "    \n",
    "    def forward_propagation(self,X):\n",
    "        A = self.__sigmoid(np.matmul(X,self.Wc1))\n",
    "        print(\"Salida Primera Capa Intermedias:\")\n",
    "        print(A)\n",
    "        y_aprox = self.__sigmoid(np.matmul(A,self.Wc2))\n",
    "        return y_aprox"
   ]
  },
  {
   "cell_type": "code",
   "execution_count": 6,
   "metadata": {},
   "outputs": [
    {
     "name": "stdout",
     "output_type": "stream",
     "text": [
      "Salida Primera Capa Intermedias:\n",
      "[[0.52497919 0.52497919 0.35434369]\n",
      " [0.66818777 0.7109495  0.11920292]\n",
      " [0.57444252 0.57444252 0.14185106]\n",
      " [0.92414182 0.96770454 0.0060598 ]]\n"
     ]
    }
   ],
   "source": [
    "# 4 observaciones, 2 variables\n",
    "X = np.array([\n",
    "      [0.1,0.2],\n",
    "      [0.3,0.4],\n",
    "      [0.3,0.6],\n",
    "      [0.7,0.5]\n",
    "])\n",
    "\n",
    "red_neuronal2 = RedNeuronal2()\n",
    "y_aprox = red_neuronal2.forward_propagation(X)"
   ]
  },
  {
   "cell_type": "markdown",
   "metadata": {},
   "source": [
    "Característica intermedia con mayor presencia:\n",
    "\n",
    "**Observación 1:** Neurona 1 y 2 (son iguales)\n",
    "\n",
    "**Observación 2:** Neurona 2 \n",
    "\n",
    "**Observación 3:** Neurona 1 y 2 (son iguales)\n",
    "\n",
    "**Observación 4:** Neurona 2"
   ]
  },
  {
   "cell_type": "code",
   "execution_count": 7,
   "metadata": {},
   "outputs": [
    {
     "data": {
      "text/plain": [
       "array([0.98483805, 0.99945645, 0.99762932, 0.99998727])"
      ]
     },
     "execution_count": 7,
     "metadata": {},
     "output_type": "execute_result"
    }
   ],
   "source": [
    "y_aprox"
   ]
  },
  {
   "cell_type": "markdown",
   "metadata": {},
   "source": [
    "### Red Neuronal 3\n",
    "\n",
    "Igorando el sesgo/bias y asumiendo activación sigmoidal implementar la siguiente red neuronal en NumPy\n",
    "\n",
    "<img src=\"img/MLP3.png\" />"
   ]
  },
  {
   "cell_type": "code",
   "execution_count": 8,
   "metadata": {},
   "outputs": [],
   "source": [
    "class RedNeuronal3:\n",
    "    def __init__(self):\n",
    "        self.Wc1 = np.array([\n",
    "            [0.8, 0.4, 0.3],\n",
    "            [0.2, 0.9, 0.5]\n",
    "        ])\n",
    "        self. Wc2  = np.array([0.3,0.5,0.9])\n",
    "    \n",
    "    def __sigmoid(self,X):\n",
    "        return 1/(1+np.exp(-X))\n",
    "    \n",
    "    def forward_propagation(self,X):\n",
    "        A = self.__sigmoid(np.matmul(X,self.Wc1))\n",
    "        print(\"Salida Primera Capa Intermedia:\")\n",
    "        print(A)\n",
    "        y_aprox = self.__sigmoid(np.matmul(A,self.Wc2))\n",
    "        return y_aprox"
   ]
  },
  {
   "cell_type": "code",
   "execution_count": 9,
   "metadata": {},
   "outputs": [
    {
     "name": "stdout",
     "output_type": "stream",
     "text": [
      "Salida Primera Capa Intermedia:\n",
      "[[0.73105858 0.78583498 0.68997448]\n",
      " [0.76852478 0.90024951 0.78583498]\n",
      " [0.98522597 0.99776215 0.97587298]\n",
      " [0.99797468 0.99983344 0.9950332 ]]\n"
     ]
    }
   ],
   "source": [
    "# 4 observaciones, 2 variables\n",
    "X = np.array([\n",
    "      [1,1],\n",
    "      [1,2],\n",
    "      [4,5],\n",
    "      [6,7]\n",
    "])\n",
    "\n",
    "red_neuronal3 = RedNeuronal3()\n",
    "y_aprox = red_neuronal3.forward_propagation(X)"
   ]
  },
  {
   "cell_type": "markdown",
   "metadata": {},
   "source": [
    "Característica intermedia con mayor presencia:\n",
    "\n",
    "**Observación 1:** Neurona 2\n",
    "\n",
    "**Observación 2:** Neurona 3\n",
    "\n",
    "**Observación 3:** Neurona 3\n",
    "\n",
    "**Observación 4:** Neurona 2"
   ]
  },
  {
   "cell_type": "code",
   "execution_count": 10,
   "metadata": {},
   "outputs": [
    {
     "data": {
      "text/plain": [
       "array([0.77438027, 0.80026216, 0.84194007, 0.84485948])"
      ]
     },
     "execution_count": 10,
     "metadata": {},
     "output_type": "execute_result"
    }
   ],
   "source": [
    "y_aprox"
   ]
  },
  {
   "cell_type": "markdown",
   "metadata": {},
   "source": [
    "## Conexiones Neuronales (sinapsis)"
   ]
  },
  {
   "cell_type": "markdown",
   "metadata": {},
   "source": [
    "### Modelo 1\n",
    "\n",
    "Asumiendo que el modelo no tiene sesgo, existen 3 parámetros entrenables.\n",
    "\n",
    "<img src=\"img/ANN1.png\" />"
   ]
  },
  {
   "cell_type": "markdown",
   "metadata": {},
   "source": [
    "### Modelo 2\n",
    "\n",
    "El modelo tiene 3 parámetros entrenables: Weight 1, Weight 2 y Bias\n",
    "\n",
    "<img src=\"img/ANN2.png\" />"
   ]
  },
  {
   "cell_type": "markdown",
   "metadata": {},
   "source": [
    "### Modelo 3\n",
    "\n",
    "Asumiendo que el modelo no tiene sesgo, existen 12 parámetros entrenables.\n",
    "\n",
    "<img src=\"img/ANN3.png\" />"
   ]
  },
  {
   "cell_type": "markdown",
   "metadata": {},
   "source": [
    "### Modelo 4\n",
    "\n",
    "Asumiendo que el sesgo es representado por el valor en la neurona, existen 9 parámetros entrenables.\n",
    "\n",
    "<img src=\"img/ANN4.png\" />"
   ]
  },
  {
   "cell_type": "markdown",
   "metadata": {},
   "source": [
    "### Modelo 5\n",
    "\n",
    "Asumiendo que el modelo no tiene sesgo, existen 10 parámetros entrenables.\n",
    "\n",
    "<img src=\"img/ANN5.png\" />"
   ]
  },
  {
   "cell_type": "markdown",
   "metadata": {},
   "source": [
    "### Modelo 6\n",
    "\n",
    "Asumiendo que el modelo no tiene sesgo, existen 20 parámetros entrenables.\n",
    "\n",
    "<img src=\"img/ANN6.png\" />"
   ]
  }
 ],
 "metadata": {
  "kernelspec": {
   "display_name": "Python 3",
   "language": "python",
   "name": "python3"
  },
  "language_info": {
   "codemirror_mode": {
    "name": "ipython",
    "version": 3
   },
   "file_extension": ".py",
   "mimetype": "text/x-python",
   "name": "python",
   "nbconvert_exporter": "python",
   "pygments_lexer": "ipython3",
   "version": "3.7.6"
  }
 },
 "nbformat": 4,
 "nbformat_minor": 4
}
