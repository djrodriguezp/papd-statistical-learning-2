{
 "cells": [
  {
   "cell_type": "markdown",
   "metadata": {},
   "source": [
    "### XOR MLP\n",
    "\n",
    "- Asumamos que bajo un proceso de entrenamiento(aún por definir) ya se han encontrado los pesos de una red\n",
    "- Calcular para cada posible punto en el dominio de xor la salida intermedia H = [h1,h2]\n",
    "- Mostrar la matriz resultante H en el notebook.\n",
    "- Graficar cada punto de la representación intermedia(scatter) ,usar diferente color y/o marker según su etiqueta Y. (puesto que y tiene 2 posibles valores, la gráfica debe tener 2 colores o markers)\n",
    "- Analizar el resultado intermedio ,concluir y comentar opiniones.\n",
    "\n",
    "<img src=\"img/MLP.png\" />"
   ]
  },
  {
   "cell_type": "code",
   "execution_count": 39,
   "metadata": {},
   "outputs": [],
   "source": [
    "import numpy as np\n",
    "import pandas as pd\n",
    "import matplotlib.pyplot as plt\n",
    "from matplotlib.colors import ListedColormap"
   ]
  },
  {
   "cell_type": "code",
   "execution_count": 31,
   "metadata": {},
   "outputs": [],
   "source": [
    "class NeuralNetworkXOR:\n",
    "    def __init__(self):\n",
    "        self.w1 = np.array([\n",
    "            [20, -20],\n",
    "            [20, -20],\n",
    "            [-10, 30]\n",
    "        ])\n",
    "        self.w2  = np.array([20, 20, -30])\n",
    "        self.H = None\n",
    "    \n",
    "    def get_hidden_layer(self):\n",
    "        return self.H\n",
    "    \n",
    "    def __sigmoid(self,X):\n",
    "        return 1/(1+np.exp(-X))\n",
    "    \n",
    "    def forward_propagation(self,X):\n",
    "        X = np.c_[ X, np.ones(X.shape[0]) ]  # concatenamos el Bias\n",
    "        self.H = self.__sigmoid(np.matmul(X,self.w1))\n",
    "        H_bias = np.c_[ self.H, np.ones(self.H.shape[0]) ]  # concatenamos el Bias\n",
    "        y_aprox = self.__sigmoid(np.matmul(H_bias,self.w2))\n",
    "        return y_aprox.reshape(-1,1)"
   ]
  },
  {
   "cell_type": "code",
   "execution_count": 37,
   "metadata": {},
   "outputs": [
    {
     "data": {
      "text/html": [
       "<div>\n",
       "<style scoped>\n",
       "    .dataframe tbody tr th:only-of-type {\n",
       "        vertical-align: middle;\n",
       "    }\n",
       "\n",
       "    .dataframe tbody tr th {\n",
       "        vertical-align: top;\n",
       "    }\n",
       "\n",
       "    .dataframe thead th {\n",
       "        text-align: right;\n",
       "    }\n",
       "</style>\n",
       "<table border=\"1\" class=\"dataframe\">\n",
       "  <thead>\n",
       "    <tr style=\"text-align: right;\">\n",
       "      <th></th>\n",
       "      <th>x1</th>\n",
       "      <th>x2</th>\n",
       "      <th>y_aprox</th>\n",
       "      <th>y_rounded</th>\n",
       "    </tr>\n",
       "  </thead>\n",
       "  <tbody>\n",
       "    <tr>\n",
       "      <th>0</th>\n",
       "      <td>0.0</td>\n",
       "      <td>0.0</td>\n",
       "      <td>0.000045</td>\n",
       "      <td>0.0</td>\n",
       "    </tr>\n",
       "    <tr>\n",
       "      <th>1</th>\n",
       "      <td>0.0</td>\n",
       "      <td>1.0</td>\n",
       "      <td>0.999955</td>\n",
       "      <td>1.0</td>\n",
       "    </tr>\n",
       "    <tr>\n",
       "      <th>2</th>\n",
       "      <td>1.0</td>\n",
       "      <td>0.0</td>\n",
       "      <td>0.999955</td>\n",
       "      <td>1.0</td>\n",
       "    </tr>\n",
       "    <tr>\n",
       "      <th>3</th>\n",
       "      <td>1.0</td>\n",
       "      <td>1.0</td>\n",
       "      <td>0.000045</td>\n",
       "      <td>0.0</td>\n",
       "    </tr>\n",
       "  </tbody>\n",
       "</table>\n",
       "</div>"
      ],
      "text/plain": [
       "    x1   x2   y_aprox  y_rounded\n",
       "0  0.0  0.0  0.000045        0.0\n",
       "1  0.0  1.0  0.999955        1.0\n",
       "2  1.0  0.0  0.999955        1.0\n",
       "3  1.0  1.0  0.000045        0.0"
      ]
     },
     "execution_count": 37,
     "metadata": {},
     "output_type": "execute_result"
    }
   ],
   "source": [
    "#Posibles puntos del dominio XOR\n",
    "\n",
    "x1 = np.array([0,0,1,1]).reshape(-1,1)\n",
    "x2 =  np.array([0,1,0,1]).reshape(-1,1)\n",
    "X = np.hstack((x1,x2))\n",
    "\n",
    "neural_network_xor = NeuralNetworkXOR()\n",
    "y_aprox = neural_network_xor.forward_propagation(X)\n",
    "y_rounded = np.around(y_aprox).reshape(-1,1)\n",
    "\n",
    "pd.DataFrame(np.hstack((X,y_aprox,y_rounded)), columns = [\"x1\", \"x2\", \"y_aprox\", \"y_rounded\"] )"
   ]
  },
  {
   "cell_type": "markdown",
   "metadata": {},
   "source": [
    "### Matriz Resultante H\n",
    "Ya hemos observado la salida de la red neuronal, ahora analizaremos la capa intermedia H, la cual se compone de las neuronas h1 y h2."
   ]
  },
  {
   "cell_type": "code",
   "execution_count": 34,
   "metadata": {},
   "outputs": [
    {
     "data": {
      "text/html": [
       "<div>\n",
       "<style scoped>\n",
       "    .dataframe tbody tr th:only-of-type {\n",
       "        vertical-align: middle;\n",
       "    }\n",
       "\n",
       "    .dataframe tbody tr th {\n",
       "        vertical-align: top;\n",
       "    }\n",
       "\n",
       "    .dataframe thead th {\n",
       "        text-align: right;\n",
       "    }\n",
       "</style>\n",
       "<table border=\"1\" class=\"dataframe\">\n",
       "  <thead>\n",
       "    <tr style=\"text-align: right;\">\n",
       "      <th></th>\n",
       "      <th>h1</th>\n",
       "      <th>h2</th>\n",
       "    </tr>\n",
       "  </thead>\n",
       "  <tbody>\n",
       "    <tr>\n",
       "      <th>0</th>\n",
       "      <td>0.000045</td>\n",
       "      <td>1.000000</td>\n",
       "    </tr>\n",
       "    <tr>\n",
       "      <th>1</th>\n",
       "      <td>0.999955</td>\n",
       "      <td>0.999955</td>\n",
       "    </tr>\n",
       "    <tr>\n",
       "      <th>2</th>\n",
       "      <td>0.999955</td>\n",
       "      <td>0.999955</td>\n",
       "    </tr>\n",
       "    <tr>\n",
       "      <th>3</th>\n",
       "      <td>1.000000</td>\n",
       "      <td>0.000045</td>\n",
       "    </tr>\n",
       "  </tbody>\n",
       "</table>\n",
       "</div>"
      ],
      "text/plain": [
       "         h1        h2\n",
       "0  0.000045  1.000000\n",
       "1  0.999955  0.999955\n",
       "2  0.999955  0.999955\n",
       "3  1.000000  0.000045"
      ]
     },
     "execution_count": 34,
     "metadata": {},
     "output_type": "execute_result"
    }
   ],
   "source": [
    "H = neural_network_xor.get_hidden_layer()\n",
    "pd.DataFrame(H, columns = [\"h1\", \"h2\"] )"
   ]
  },
  {
   "cell_type": "code",
   "execution_count": 68,
   "metadata": {},
   "outputs": [
    {
     "data": {
      "image/png": "[encoded data removed]",
      "text/plain": [
       "<Figure size 432x288 with 1 Axes>"
      ]
     },
     "metadata": {
      "needs_background": "light"
     },
     "output_type": "display_data"
    }
   ],
   "source": [
    "colours = ListedColormap(['orange','b'])\n",
    "classes = [\"0.000045\",\"0.999955\"]\n",
    "\n",
    "plot = plt.scatter(H[:,0],H[:, 1], c=y_aprox.reshape(1,-1)[0].tolist(),cmap=colours)\n",
    "\n",
    "plt.title(\"Representación de puntos Matriz H\")\n",
    "plt.legend(handles=plot.legend_elements()[0],labels=classes)\n",
    "plt.grid(True)\n",
    "plt.show()"
   ]
  },
  {
   "cell_type": "markdown",
   "metadata": {},
   "source": [
    "### Representación de puntos x1 y x2\n",
    "Con el fin de comparar la salida de la capa intermedia H, se realizará una gráfica de los puntos x1 y x2 con su respectivo Y."
   ]
  },
  {
   "cell_type": "code",
   "execution_count": 70,
   "metadata": {},
   "outputs": [
    {
     "data": {
      "image/png": "[encoded data removed]",
      "text/plain": [
       "<Figure size 432x288 with 1 Axes>"
      ]
     },
     "metadata": {
      "needs_background": "light"
     },
     "output_type": "display_data"
    }
   ],
   "source": [
    "y =[0,1,1,0]\n",
    "\n",
    "colours = ListedColormap(['orange','b'])\n",
    "classes = [\"0\",\"1\"]\n",
    "\n",
    "plot = plt.scatter(X[:,0],X[:, 1], c=y,cmap=colours)\n",
    "\n",
    "plt.title(\"Representación de puntos Matriz x\")\n",
    "plt.legend(handles=plot.legend_elements()[0],labels=classes)\n",
    "plt.grid(True)\n",
    "plt.show()"
   ]
  },
  {
   "cell_type": "markdown",
   "metadata": {},
   "source": [
    "Si comparamos las 2 gráficas, podemos ver que en la gráfica obtenida con la Matriz H, los puntos naranja, pueden ser separados del punto azul por medio de una recta, mientras que en los puntos de la matriz X no es posible trazar una frontera entre los punto naranja y los puntos azules.\n",
    "\n",
    "Esto lo podemos observandr trazando una linea de división en la gráfica de la Matriz H."
   ]
  },
  {
   "cell_type": "code",
   "execution_count": 90,
   "metadata": {},
   "outputs": [
    {
     "data": {
      "image/png": "[encoded data removed]",
      "text/plain": [
       "<Figure size 432x288 with 1 Axes>"
      ]
     },
     "metadata": {
      "needs_background": "light"
     },
     "output_type": "display_data"
    }
   ],
   "source": [
    "colours = ListedColormap(['orange','b'])\n",
    "classes = [\"0.000045\",\"0.999955\"]\n",
    "\n",
    "plot = plt.scatter(H[:,0],H[:, 1], c=y_aprox.reshape(1,-1)[0].tolist(),cmap=colours)\n",
    "plt.plot([0,1.40],[1.4,0],c='r')\n",
    "plt.title(\"Representación de puntos Matriz H\")\n",
    "plt.legend(handles=plot.legend_elements()[0],labels=classes)\n",
    "plt.grid(True)\n",
    "plt.show()"
   ]
  },
  {
   "cell_type": "markdown",
   "metadata": {},
   "source": [
    "## Conclusiones\n",
    "\n",
    "- Las redes neuronales o perceptrón multicapa (MLP) nos pueden servir para resolver problemas donde necesitemos romper la linealidad del mismo por medio de funciones de activación.\n",
    "\n",
    "\n",
    "- Las capas intermedias de una red neuronal son capaces de aprender una representación que nos permita transformar los datos de entrada a un espacio intermedio para resolver un problema en otro dominio de datos."
   ]
  }
 ],
 "metadata": {
  "kernelspec": {
   "display_name": "Python 3",
   "language": "python",
   "name": "python3"
  },
  "language_info": {
   "codemirror_mode": {
    "name": "ipython",
    "version": 3
   },
   "file_extension": ".py",
   "mimetype": "text/x-python",
   "name": "python",
   "nbconvert_exporter": "python",
   "pygments_lexer": "ipython3",
   "version": "3.7.6"
  }
 },
 "nbformat": 4,
 "nbformat_minor": 4
}
